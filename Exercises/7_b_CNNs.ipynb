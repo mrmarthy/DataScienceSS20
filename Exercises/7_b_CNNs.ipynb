{
  "nbformat": 4,
  "nbformat_minor": 0,
  "metadata": {
    "colab": {
      "name": "7_b_CNNs.ipynb",
      "provenance": [],
      "collapsed_sections": [],
      "include_colab_link": true
    },
    "kernelspec": {
      "display_name": "Python 3",
      "language": "python",
      "name": "python3"
    },
    "language_info": {
      "codemirror_mode": {
        "name": "ipython",
        "version": 3
      },
      "file_extension": ".py",
      "mimetype": "text/x-python",
      "name": "python",
      "nbconvert_exporter": "python",
      "pygments_lexer": "ipython3",
      "version": "3.7.6"
    }
  },
  "cells": [
    {
      "cell_type": "markdown",
      "metadata": {
        "id": "view-in-github",
        "colab_type": "text"
      },
      "source": [
        "<a href=\"https://colab.research.google.com/github/mrmarthy/DataScienceSS20/blob/mrmarthy-solution/Exercises/7_b_CNNs.ipynb\" target=\"_parent\"><img src=\"https://colab.research.google.com/assets/colab-badge.svg\" alt=\"Open In Colab\"/></a>"
      ]
    },
    {
      "cell_type": "markdown",
      "metadata": {
        "colab_type": "text",
        "id": "9qYJcxpwEyxC"
      },
      "source": [
        ""
      ]
    },
    {
      "cell_type": "markdown",
      "metadata": {
        "colab_type": "text",
        "id": "NgYV9F8IE2L_"
      },
      "source": [
        "# Exercise 2 - Image Classification with CNNs\n",
        "![CIFAR10](https://miro.medium.com/max/964/1*syyml8q8s1Yt-iEea5m1Ag.png)\n",
        "\n",
        "[CIFAR 10](https://www.cs.toronto.edu/~kriz/cifar.html) is a small toy data set for image classifaction. \n",
        "\n",
        "* It has 60k images from ten diffenrent classes (like car, airplane, horse,..)\n",
        "* The RGB images are of size 32x32 pixels  "
      ]
    },
    {
      "cell_type": "code",
      "metadata": {
        "colab_type": "code",
        "id": "GiDFXXcUEy-G",
        "colab": {
          "base_uri": "https://localhost:8080/",
          "height": 121
        },
        "outputId": "48af9355-6d0d-46fe-eca0-d5e3f6f176a9"
      },
      "source": [
        "#import needed libs\n",
        "from __future__ import print_function\n",
        "import keras\n",
        "import tensorflow as tf\n",
        "from keras.datasets import cifar10\n",
        "from keras.preprocessing.image import ImageDataGenerator\n",
        "from keras.models import Sequential\n",
        "from keras.layers import Dense, Dropout, Activation, Flatten\n",
        "from keras.layers import Conv2D, MaxPooling2D\n",
        "import os\n",
        "\n",
        "#some vars to controll the training -> use them in your code\n",
        "batch_size = 32\n",
        "num_classes = 10 #fixed!\n",
        "epochs = 10\n",
        "\n",
        "# Get the data, split between train and test sets:\n",
        "(x_train, y_train), (x_test, y_test) = cifar10.load_data()\n",
        "print('x_train shape:', x_train.shape)\n",
        "print(x_train.shape[0], 'train samples')\n",
        "print(x_test.shape[0], 'test samples')\n",
        "\n",
        "# Convert class vectors to binary class matrices.\n",
        "y_train = keras.utils.to_categorical(y_train, num_classes)\n",
        "y_test = keras.utils.to_categorical(y_test, num_classes)"
      ],
      "execution_count": 1,
      "outputs": [
        {
          "output_type": "stream",
          "text": [
            "Using TensorFlow backend.\n"
          ],
          "name": "stderr"
        },
        {
          "output_type": "stream",
          "text": [
            "Downloading data from https://www.cs.toronto.edu/~kriz/cifar-10-python.tar.gz\n",
            "170500096/170498071 [==============================] - 2s 0us/step\n",
            "x_train shape: (50000, 32, 32, 3)\n",
            "50000 train samples\n",
            "10000 test samples\n"
          ],
          "name": "stdout"
        }
      ]
    },
    {
      "cell_type": "markdown",
      "metadata": {
        "colab_type": "text",
        "id": "vmocaCkIGOIR"
      },
      "source": [
        "## Task:\n",
        "* build and train the ***AlexNet*** CNN architecture from the lecture\n",
        "* use 'relu' functions for the non-linear activation\n",
        "* optimize the learning hyper-paramters to get the best  test accuracy"
      ]
    },
    {
      "cell_type": "code",
      "metadata": {
        "colab_type": "code",
        "id": "9p5AD8mJEzmL",
        "colab": {}
      },
      "source": [
        "#alexNet\n",
        "input1D=x_train.shape[1:]\n",
        "model = Sequential()\n",
        "#1\n",
        "model.add(Conv2D(filters=64, kernel_size=(3, 3), strides=(1,1), input_shape=input1D, padding='same'))\n",
        "model.add(Activation('relu'))\n",
        "model.add(MaxPooling2D(pool_size=(2,2)))\n",
        "#c2\n",
        "model.add(Conv2D(filters=64, kernel_size=(3, 3), strides=(1,1), padding='same'))\n",
        "model.add(Activation('relu'))\n",
        "model.add(MaxPooling2D(pool_size=(2,2)))\n",
        "#c3\n",
        "model.add(Conv2D(filters=128, kernel_size=(3, 3), strides=(1,1), padding='same'))\n",
        "model.add(Activation('relu'))\n",
        "#c4\n",
        "model.add(Conv2D(filters=128, kernel_size=(3, 3), strides=(1,1), padding='same'))\n",
        "model.add(Activation('relu'))\n",
        "#c5\n",
        "model.add(Conv2D(filters=128, kernel_size=(3, 3), strides=(1,1), padding='same'))\n",
        "model.add(Activation('relu'))\n",
        "model.add(MaxPooling2D(pool_size=(2,2)))\n",
        "\n",
        "#fully\n",
        "model.add(Flatten()) \n",
        "model.add(Dense(512))\n",
        "model.add(Activation('relu'))\n",
        "#2\n",
        "model.add(Dense(num_classes))\n",
        "model.add(Activation('softmax'))"
      ],
      "execution_count": 2,
      "outputs": []
    },
    {
      "cell_type": "code",
      "metadata": {
        "id": "9UyNA-sOyd0t",
        "colab_type": "code",
        "colab": {}
      },
      "source": [
        "model.compile(optimizer='adam', loss=tf.keras.losses.MeanSquaredLogarithmicError(), metrics=['accuracy'])\n"
      ],
      "execution_count": 3,
      "outputs": []
    },
    {
      "cell_type": "code",
      "metadata": {
        "id": "yj30wgeWyfsB",
        "colab_type": "code",
        "colab": {
          "base_uri": "https://localhost:8080/",
          "height": 416
        },
        "outputId": "3c88016b-cf04-4f95-9f6d-1bfee534feaa"
      },
      "source": [
        "#pre-processing: normalize data from solution \n",
        "x_train = x_train.astype('float32')\n",
        "x_test = x_test.astype('float32')\n",
        "x_train /= 255\n",
        "x_test /= 255\n",
        "\n",
        "model.fit(x_train, y_train,\n",
        "              batch_size=batch_size,\n",
        "              epochs=epochs,\n",
        "              shuffle=True)\n",
        "\n",
        "\n",
        "result = model.evaluate(x_test, y_test, verbose=1)\n",
        "#loss and acc\n",
        "for r in result:\n",
        "  print(r)\n",
        "\n"
      ],
      "execution_count": 4,
      "outputs": [
        {
          "output_type": "stream",
          "text": [
            "Epoch 1/10\n",
            "50000/50000 [==============================] - 322s 6ms/step - loss: 0.0332 - accuracy: 0.4383\n",
            "Epoch 2/10\n",
            "50000/50000 [==============================] - 324s 6ms/step - loss: 0.0243 - accuracy: 0.6221\n",
            "Epoch 3/10\n",
            "50000/50000 [==============================] - 323s 6ms/step - loss: 0.0206 - accuracy: 0.6881\n",
            "Epoch 4/10\n",
            "50000/50000 [==============================] - 321s 6ms/step - loss: 0.0180 - accuracy: 0.7320\n",
            "Epoch 5/10\n",
            "50000/50000 [==============================] - 322s 6ms/step - loss: 0.0159 - accuracy: 0.7673\n",
            "Epoch 6/10\n",
            "50000/50000 [==============================] - 324s 6ms/step - loss: 0.0142 - accuracy: 0.7960\n",
            "Epoch 7/10\n",
            "50000/50000 [==============================] - 324s 6ms/step - loss: 0.0125 - accuracy: 0.8212\n",
            "Epoch 8/10\n",
            "50000/50000 [==============================] - 323s 6ms/step - loss: 0.0113 - accuracy: 0.8431\n",
            "Epoch 9/10\n",
            "50000/50000 [==============================] - 324s 6ms/step - loss: 0.0100 - accuracy: 0.8611\n",
            "Epoch 10/10\n",
            "50000/50000 [==============================] - 326s 7ms/step - loss: 0.0093 - accuracy: 0.8737\n",
            "10000/10000 [==============================] - 16s 2ms/step\n",
            "0.020372648224234582\n",
            "0.7268999814987183\n"
          ],
          "name": "stdout"
        }
      ]
    },
    {
      "cell_type": "code",
      "metadata": {
        "id": "-Vkd-i_fy8wN",
        "colab_type": "code",
        "colab": {}
      },
      "source": [
        ""
      ],
      "execution_count": null,
      "outputs": []
    }
  ]
}