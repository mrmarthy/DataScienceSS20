{
 "cells": [
  {
   "cell_type": "markdown",
   "metadata": {},
   "source": [
    "# Block 5 Exercise 1: Classification"
   ]
  },
  {
   "cell_type": "markdown",
   "metadata": {},
   "source": [
    "## MNIST Data\n",
    "In these exercises we are using the MNIST data set on handwritten digits to compare supervised classification algorithms...   "
   ]
  },
  {
   "cell_type": "code",
   "execution_count": 62,
   "metadata": {},
   "outputs": [],
   "source": [
    "#imports \n",
    "import matplotlib.pyplot as plt\n",
    "import numpy as np\n",
    "import matplotlib.pyplot as plt\n",
    "%matplotlib inline\n",
    "from sklearn.datasets import fetch_openml\n",
    "\n",
    "from sklearn.model_selection import train_test_split\n",
    "from sklearn.naive_bayes import GaussianNB\n",
    "from sklearn import linear_model\n",
    "from sklearn.ensemble import RandomForestClassifier\n",
    "from sklearn.metrics import accuracy_score\n",
    "from sklearn.metrics import confusion_matrix\n",
    "from sklearn.metrics import f1_score\n",
    "from sklearn.metrics import roc_curve"
   ]
  },
  {
   "cell_type": "code",
   "execution_count": 35,
   "metadata": {},
   "outputs": [],
   "source": [
    "# Load data from https://www.openml.org/d/554\n",
    "X, y = fetch_openml('mnist_784', version=1, return_X_y=True)\n"
   ]
  },
  {
   "cell_type": "code",
   "execution_count": 36,
   "metadata": {},
   "outputs": [
    {
     "data": {
      "text/plain": [
       "(70000, 784)"
      ]
     },
     "execution_count": 36,
     "metadata": {},
     "output_type": "execute_result"
    }
   ],
   "source": [
    "#the full MNIST data set contains 70k samples of digits 0-9 as 28*28 gray scale images (represented as 784 dim vectors)\n",
    "np.shape(X)"
   ]
  },
  {
   "cell_type": "markdown",
   "metadata": {},
   "source": [
    "### E1.1: Use SkLearn methods to split the MNIST data into random train and test sets. Use 60k samples for training.  \n"
   ]
  },
  {
   "cell_type": "code",
   "execution_count": 37,
   "metadata": {},
   "outputs": [],
   "source": [
    "XTrain, XTest, YTrain, YTest = train_test_split(X, y, test_size=0.14285)"
   ]
  },
  {
   "cell_type": "markdown",
   "metadata": {},
   "source": [
    "### E1.2: Visualize the data.\n",
    "* Plot some data samples as images (use https://matplotlib.org/3.1.0/api/_as_gen/matplotlib.pyplot.imshow.html)"
   ]
  },
  {
   "cell_type": "code",
   "execution_count": 38,
   "metadata": {},
   "outputs": [
    {
     "name": "stdout",
     "output_type": "stream",
     "text": [
      "28114\n",
      "26130\n",
      "4342\n",
      "40617\n",
      "46438\n",
      "38357\n"
     ]
    },
    {
     "data": {
      "image/png": "[encoded data removed]",
      "text/plain": [
       "<Figure size 432x288 with 1 Axes>"
      ]
     },
     "metadata": {
      "needs_background": "light"
     },
     "output_type": "display_data"
    },
    {
     "data": {
      "image/png": "[encoded data removed]",
      "text/plain": [
       "<Figure size 432x288 with 1 Axes>"
      ]
     },
     "metadata": {
      "needs_background": "light"
     },
     "output_type": "display_data"
    },
    {
     "data": {
      "image/png": "[encoded data removed]",
      "text/plain": [
       "<Figure size 432x288 with 1 Axes>"
      ]
     },
     "metadata": {
      "needs_background": "light"
     },
     "output_type": "display_data"
    },
    {
     "data": {
      "image/png": "[encoded data removed]",
      "text/plain": [
       "<Figure size 432x288 with 1 Axes>"
      ]
     },
     "metadata": {
      "needs_background": "light"
     },
     "output_type": "display_data"
    },
    {
     "data": {
      "image/png": "[encoded data removed]",
      "text/plain": [
       "<Figure size 432x288 with 1 Axes>"
      ]
     },
     "metadata": {
      "needs_background": "light"
     },
     "output_type": "display_data"
    },
    {
     "data": {
      "image/png": "[encoded data removed]",
      "text/plain": [
       "<Figure size 432x288 with 1 Axes>"
      ]
     },
     "metadata": {
      "needs_background": "light"
     },
     "output_type": "display_data"
    }
   ],
   "source": [
    "for i in range(6): \n",
    "    ranInt = np.random.randint(low=0, high=60000)\n",
    "    print(ranInt)\n",
    "    plt.figure()\n",
    "    plt.imshow(np.reshape(XTrain[ranInt,:],(28,28))) \n",
    "\n"
   ]
  },
  {
   "cell_type": "markdown",
   "metadata": {},
   "source": [
    "### E1.3: Train models on the train data.\n",
    "Train the following models with default parameters on the train data.\n",
    "* [Naive Bayes](https://scikit-learn.org/stable/modules/generated/sklearn.naive_bayes.GaussianNB.html#sklearn.naive_bayes.GaussianNB) (assuming a Gaussian distribution of the data)\n",
    "* [Simple linear model](https://scikit-learn.org/stable/modules/generated/sklearn.linear_model.SGDClassifier.html#sklearn.linear_model.SGDClassifier)\n",
    "   * use ``loss='log'`` to reproduce our logistic loss function \n",
    "* [Random Forest](https://scikit-learn.org/stable/modules/generated/sklearn.ensemble.RandomForestClassifier.html#sklearn.ensemble.RandomForestClassifier)\n",
    "\n",
    "Compare the training accuracy (https://scikit-learn.org/stable/modules/generated/sklearn.metrics.accuracy_score.html#sklearn.metrics.accuracy_score) and [confusion matrix](https://scikit-learn.org/stable/modules/generated/sklearn.metrics.confusion_matrix.html#sklearn.metrics.confusion_matrix) for all three models."
   ]
  },
  {
   "cell_type": "code",
   "execution_count": 48,
   "metadata": {},
   "outputs": [
    {
     "data": {
      "text/plain": [
       "RandomForestClassifier(bootstrap=True, ccp_alpha=0.0, class_weight=None,\n",
       "                       criterion='gini', max_depth=None, max_features='auto',\n",
       "                       max_leaf_nodes=None, max_samples=None,\n",
       "                       min_impurity_decrease=0.0, min_impurity_split=None,\n",
       "                       min_samples_leaf=1, min_samples_split=2,\n",
       "                       min_weight_fraction_leaf=0.0, n_estimators=100,\n",
       "                       n_jobs=None, oob_score=False, random_state=None,\n",
       "                       verbose=0, warm_start=False)"
      ]
     },
     "execution_count": 48,
     "metadata": {},
     "output_type": "execute_result"
    }
   ],
   "source": [
    "nbayes = GaussianNB()\n",
    "slinear = linear_model.SGDClassifier(loss='log')\n",
    "ranForest = RandomForestClassifier()\n",
    "\n",
    "nbayes.fit(XTrain,YTrain)\n",
    "slinear.fit(XTrain,YTrain)\n",
    "ranForest.fit(XTrain,YTrain)"
   ]
  },
  {
   "cell_type": "code",
   "execution_count": 49,
   "metadata": {},
   "outputs": [
    {
     "name": "stdout",
     "output_type": "stream",
     "text": [
      "0.5482833333333333\n",
      "[[5125   13   30   18   15   12  272    6  295  182]\n",
      " [   3 6324   14   23    2    9   89    4  145   77]\n",
      " [ 454  172 1789  397   28   23 1589   17 1419  112]\n",
      " [ 257  329   52 2086   11   11  386   44 2126  764]\n",
      " [ 105   38   49   24  966   32  612   24 1051 2956]\n",
      " [ 491  141   31  118   26  266  353   10 3339  685]\n",
      " [  44   99   28    2    4   19 5591    0  117   10]\n",
      " [  20   44    7   49   50    6   22 1774  177 4111]\n",
      " [  76  786   25   48   27   29  116    7 3302 1399]\n",
      " [  26   37   18    8   32    3    5   71   96 5674]]\n"
     ]
    }
   ],
   "source": [
    "print(accuracy_score(YTrain,nbayes.predict(XTrain)))\n",
    "print(confusion_matrix(YTrain,nbayes.predict(XTrain)))"
   ]
  },
  {
   "cell_type": "code",
   "execution_count": 50,
   "metadata": {},
   "outputs": [
    {
     "name": "stdout",
     "output_type": "stream",
     "text": [
      "0.8888\n",
      "[[5810    0   12    5    6   34   14    2   78    7]\n",
      " [   2 6030   25    9    0  106   10   14  462   32]\n",
      " [  53   13 4934  123   79  180   60   59  470   29]\n",
      " [  15    4   47 5090   10  431   12   31  335   91]\n",
      " [   9    6    7    3 5118   43   28   18  355  270]\n",
      " [  42    9    9  137   29 4682   29   16  446   61]\n",
      " [  31    3   33    2   33  298 5417    0   92    5]\n",
      " [  28    6   20   21   48   31    7 5700  112  287]\n",
      " [  19   13   10   69   16  283    6   19 5304   76]\n",
      " [  23    5    4   54  106  102    2  140  291 5243]]\n"
     ]
    }
   ],
   "source": [
    "print(accuracy_score(YTrain,slinear.predict(XTrain)))\n",
    "print(confusion_matrix(YTrain,slinear.predict(XTrain)))"
   ]
  },
  {
   "cell_type": "code",
   "execution_count": 51,
   "metadata": {},
   "outputs": [
    {
     "name": "stdout",
     "output_type": "stream",
     "text": [
      "1.0\n",
      "[[5968    0    0    0    0    0    0    0    0    0]\n",
      " [   0 6690    0    0    0    0    0    0    0    0]\n",
      " [   0    0 6000    0    0    0    0    0    0    0]\n",
      " [   0    0    0 6066    0    0    0    0    0    0]\n",
      " [   0    0    0    0 5857    0    0    0    0    0]\n",
      " [   0    0    0    0    0 5460    0    0    0    0]\n",
      " [   0    0    0    0    0    0 5914    0    0    0]\n",
      " [   0    0    0    0    0    0    0 6260    0    0]\n",
      " [   0    0    0    0    0    0    0    0 5815    0]\n",
      " [   0    0    0    0    0    0    0    0    0 5970]]\n"
     ]
    }
   ],
   "source": [
    "print(accuracy_score(YTrain,ranForest.predict(XTrain)))\n",
    "print(confusion_matrix(YTrain,ranForest.predict(XTrain)))"
   ]
  },
  {
   "cell_type": "markdown",
   "metadata": {},
   "source": [
    "### E1.4: Evaluate and compare the models on the test set.\n",
    "* compute the test [accuracy](https://scikit-learn.org/stable/modules/generated/sklearn.metrics.accuracy_score.html#sklearn.metrics.accuracy_score) \n",
    "* compute the [F-Measure](https://scikit-learn.org/stable/modules/generated/sklearn.metrics.f1_score.html#sklearn.metrics.f1_score)\n",
    "* plot a [ROC curves](https://scikit-learn.org/stable/modules/generated/sklearn.metrics.roc_curve.html#sklearn.metrics.roc_curve) for the class \"5\" for all three models.\n",
    "                          "
   ]
  },
  {
   "cell_type": "code",
   "execution_count": 55,
   "metadata": {},
   "outputs": [],
   "source": [
    "nbayesTestAcc = accuracy_score(YTest,nbayes.predict(XTest))\n",
    "nbayesTestAccF1 = f1_score(YTest,nbayes.predict(XTest),average='micro')\n",
    "\n",
    "slinearTestAcc = accuracy_score(YTest,slinear.predict(XTest))\n",
    "slinearTestAccF1 = f1_score(YTest,slinear.predict(XTest),average='micro')\n",
    "\n",
    "ranForestTestAcc = accuracy_score(YTest,ranForest.predict(XTest))\n",
    "ranForestTestAccF1 = f1_score(YTest,ranForest.predict(XTest),average='micro')"
   ]
  },
  {
   "cell_type": "code",
   "execution_count": 61,
   "metadata": {},
   "outputs": [
    {
     "name": "stdout",
     "output_type": "stream",
     "text": [
      "Test native bayes: 0.5525\n",
      "F-Measure native bayes:  0.5525\n",
      "Test single linear:  0.875\n",
      "F-Measure single linear:  0.875\n",
      "Test random forest:  0.9659\n",
      "F-Measure random forest:  0.9659\n"
     ]
    }
   ],
   "source": [
    "print(\"Test native bayes:\", nbayesTestAcc)\n",
    "print(\"F-Measure native bayes: \", nbayesTestAccF1)\n",
    "print(\"Test single linear: \", slinearTestAcc)\n",
    "print(\"F-Measure single linear: \", slinearTestAccF1)\n",
    "print(\"Test random forest: \", ranForestTestAcc)\n",
    "print(\"F-Measure random forest: \",ranForestTestAccF1)\n"
   ]
  },
  {
   "cell_type": "code",
   "execution_count": 82,
   "metadata": {},
   "outputs": [
    {
     "data": {
      "image/png": "[encoded data removed]",
      "text/plain": [
       "<Figure size 432x288 with 1 Axes>"
      ]
     },
     "metadata": {
      "needs_background": "light"
     },
     "output_type": "display_data"
    }
   ],
   "source": [
    "#review, what does this do?\n",
    "y_five = YTest=='5'\n",
    "bayes_five = nbayes.predict(XTest).astype(int)==5\n",
    "linear_five = slinear.predict(XTest).astype(int)==5\n",
    "rf_five = ranForest.predict(XTest).astype(int)==5\n",
    "\n",
    "#true positives and false positives for each method\n",
    "nbayesfp, bayestp, _ = roc_curve(y_five, bayes_five)\n",
    "slinearfp, slineartp, _ = roc_curve(y_five, linear_five)\n",
    "ranForestfp, ranForesttp, _ = roc_curve(y_five, rf_five)\n",
    "\n",
    "lw = 2\n",
    "plt.plot(bayes_fpr, bayes_tpr, label='Bayes')\n",
    "plt.plot(linear_fpr, linear_tpr, label='Linear')\n",
    "plt.plot(rf_fpr, rf_tpr, label='RF')\n",
    "plt.xlabel('FP')\n",
    "plt.ylabel('TP')\n",
    "plt.title('Receiver operating characteristic example')\n",
    "plt.legend()\n",
    "plt.show()\n"
   ]
  },
  {
   "cell_type": "code",
   "execution_count": null,
   "metadata": {},
   "outputs": [],
   "source": []
  }
 ],
 "metadata": {
  "kernelspec": {
   "display_name": "Python 3",
   "language": "python",
   "name": "python3"
  },
  "language_info": {
   "codemirror_mode": {
    "name": "ipython",
    "version": 3
   },
   "file_extension": ".py",
   "mimetype": "text/x-python",
   "name": "python",
   "nbconvert_exporter": "python",
   "pygments_lexer": "ipython3",
   "version": "3.7.6"
  }
 },
 "nbformat": 4,
 "nbformat_minor": 4
}
