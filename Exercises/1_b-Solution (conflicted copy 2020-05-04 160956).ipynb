{
 "cells": [
  {
   "cell_type": "markdown",
   "metadata": {},
   "source": [
    "# Exercise II - Matplotlib\n",
    "Use the Big-Mart Data for some plotting exercises"
   ]
  },
  {
   "cell_type": "code",
   "execution_count": null,
   "metadata": {},
   "outputs": [],
   "source": [
    "#check if notebook runs in colab\n",
    "import sys\n",
    "IN_COLAB = 'google.colab' in sys.modules\n",
    "print('running in Colab:',IN_COLAB)\n",
    "path='..'\n",
    "if IN_COLAB:\n",
    "  #in colab, we need to clone the data from the repo\n",
    "  !git clone https://github.com/keuperj/DataScienceSS20.git\n",
    "  path='DataScienceSS20'"
   ]
  },
  {
   "cell_type": "code",
   "execution_count": null,
   "metadata": {},
   "outputs": [],
   "source": [
    "#import an read big-mart data\n",
    "import pandas as pd\n",
    "import matplotlib.pyplot as plt\n",
    "%matplotlib inline\n",
    "\n",
    "data = pd.read_csv(path+\"/DATA/company_sales_data.csv\") \n"
   ]
  },
  {
   "cell_type": "code",
   "execution_count": null,
   "metadata": {},
   "outputs": [],
   "source": [
    "#short preview of the data table\n",
    "data.head()"
   ]
  },
  {
   "cell_type": "code",
   "execution_count": null,
   "metadata": {},
   "outputs": [],
   "source": [
    "#access data rows by name\n",
    "plt.plot(data.toothpaste)"
   ]
  },
  {
   "cell_type": "markdown",
   "metadata": {},
   "source": [
    "## Exercise 1\n",
    "Read Total profit of all months and show it using a line plot\n",
    "Total profit data provided for each month. Generated line plot must include the following properties: \n",
    "\n",
    "* X label name = Month Number\n",
    "* Y label name = Total profit\n"
   ]
  },
  {
   "cell_type": "code",
   "execution_count": null,
   "metadata": {},
   "outputs": [],
   "source": [
    "#use plt plot for this simple line plot\n",
    "plt.plot(data.month_number,data.total_profit, label = 'Month-wise Profit data of last year')\n",
    "#set axis lables\n",
    "plt.xlabel('Month number')\n",
    "plt.ylabel('Profit in dollar')\n",
    "#set axis ticks\n",
    "plt.yticks([100000, 200000, 300000, 400000, 500000])\n",
    "#add a title\n",
    "plt.title('Company profit per month')\n",
    "plt.show()"
   ]
  },
  {
   "cell_type": "markdown",
   "metadata": {},
   "source": [
    "## Exercise 2\n",
    "Get Total profit of all months and show line plot with the following Style properties\n",
    "Generated line plot must include following Style properties:\n",
    "\n",
    "* Line Style dotted and Line color should be red\n",
    "* Show legend at the lower right location.\n",
    "* X label name = Month Number\n",
    "* Y label name = Sold units number\n",
    "* Add a circle marker.\n",
    "* Line marker color blue\n",
    "* Line width should be 3\n"
   ]
  },
  {
   "cell_type": "code",
   "execution_count": null,
   "metadata": {},
   "outputs": [],
   "source": [
    "#again, a matplotlib plot - now with some line styling\n",
    "plt.plot(data.month_number, data.total_profit, label = 'Profit data of last year', \n",
    "      color='r', marker='o', markerfacecolor='b', \n",
    "      linestyle='--', linewidth=3)\n",
    "      \n",
    "plt.xlabel('Month Number')\n",
    "plt.ylabel('Profit in dollar')\n",
    "plt.legend(loc='lower right')\n",
    "plt.title('Company Sales data of last year')\n",
    "plt.xticks(data.month_number)\n",
    "plt.yticks([100000, 200000, 300000, 400000, 500000])\n",
    "plt.show()"
   ]
  },
  {
   "cell_type": "markdown",
   "metadata": {},
   "source": [
    "## Exercise 3\n",
    "Read all product sales data and show it  using a multiline plot\n",
    "Display the number of units sold per month for each product using multiline plots. (i.e., Separate Plotline for each product for each product)."
   ]
  },
  {
   "cell_type": "code",
   "execution_count": null,
   "metadata": {},
   "outputs": [],
   "source": [
    "#generate some helper variables from data\n",
    "monthList  = data ['month_number']\n",
    "faceCremSalesData   = data ['facecream']\n",
    "faceWashSalesData   = data ['facewash']\n",
    "toothPasteSalesData = data ['toothpaste']\n",
    "bathingsoapSalesData   = data ['bathingsoap']\n",
    "shampooSalesData   = data ['shampoo']\n",
    "moisturizerSalesData = data ['moisturizer']\n",
    "#plot with data lables - to appear in the legend\n",
    "plt.plot(monthList, faceCremSalesData,   label = 'Face cream', marker='o', linewidth=3)\n",
    "plt.plot(monthList, faceWashSalesData,   label = 'Face Wash',  marker='o', linewidth=3)\n",
    "plt.plot(monthList, toothPasteSalesData, label = 'Toothpaste ', marker='o', linewidth=3)\n",
    "plt.plot(monthList, bathingsoapSalesData, label = 'Bathing Soap', marker='o', linewidth=3)\n",
    "plt.plot(monthList, shampooSalesData, label = 'Shampoo', marker='o', linewidth=3)\n",
    "plt.plot(monthList, moisturizerSalesData, label = 'Moisturizer', marker='o', linewidth=3)\n",
    "plt.xlabel('Month Number')\n",
    "plt.ylabel('Sales units in number')\n",
    "#add legend\n",
    "plt.legend(loc='upper left')\n",
    "plt.xticks(monthList)\n",
    "plt.yticks([1000, 2000, 4000, 6000, 8000, 10000, 12000, 15000, 18000])\n",
    "plt.title('Sales data')\n",
    "plt.show()"
   ]
  },
  {
   "cell_type": "markdown",
   "metadata": {},
   "source": [
    "## Exercise 4\n",
    "Read toothpaste sales data of each month and show it using a scatter plot\n",
    "Also, add a grid in the plot."
   ]
  },
  {
   "cell_type": "code",
   "execution_count": null,
   "metadata": {},
   "outputs": [],
   "source": [
    "monthList  = data ['month_number']\n",
    "toothPasteSalesData = data ['toothpaste']\n",
    "#the scatter plot takes to variables and plots them\n",
    "plt.scatter(monthList, toothPasteSalesData, label = 'Tooth paste Sales data')\n",
    "plt.xlabel('Month Number')\n",
    "plt.ylabel('Number of units Sold')\n",
    "plt.legend(loc='upper left')\n",
    "plt.title(' Tooth paste Sales data')\n",
    "plt.xticks(monthList)\n",
    "plt.grid(True, linewidth= 1, linestyle=\"--\")\n",
    "plt.show()"
   ]
  },
  {
   "cell_type": "markdown",
   "metadata": {},
   "source": [
    "## Exercise 5\n",
    "Read face cream and facewash product sales data and show it using the bar chart\n",
    "which should display the number of units sold per month for each product. Add a separate bar for each product in the same chart."
   ]
  },
  {
   "cell_type": "code",
   "execution_count": null,
   "metadata": {},
   "outputs": [],
   "source": [
    "monthList  = data ['month_number']\n",
    "faceCremSalesData   = data ['facecream']\n",
    "faceWashSalesData   = data ['facewash']\n",
    "#bar plot with legend\n",
    "plt.bar([a-0.25 for a in monthList], faceCremSalesData, width= 0.25, label = 'Face Cream sales data', align='edge')\n",
    "plt.bar([a+0.25 for a in monthList], faceWashSalesData, width= -0.25, label = 'Face Wash sales data', align='edge')\n",
    "plt.xlabel('Month Number')\n",
    "plt.ylabel('Sales units in number')\n",
    "plt.legend(loc='upper left')\n",
    "plt.title(' Sales data')\n",
    "plt.xticks(monthList)\n",
    "plt.grid(True, linewidth= 1, linestyle=\"--\")\n",
    "plt.title('Facewash and facecream sales data')\n",
    "plt.show()"
   ]
  },
  {
   "cell_type": "markdown",
   "metadata": {},
   "source": [
    "## Exercise 6\n",
    "Calculate total sale data for last year for each product and show it using a Pie chart\n",
    "Note: In Pie chart display Number of units sold per year for each product in percentage.\n",
    "\n",
    "***Note:*** use ``data[item].sum()`` to compute sums over columns "
   ]
  },
  {
   "cell_type": "code",
   "execution_count": null,
   "metadata": {},
   "outputs": [],
   "source": [
    "data['toothpaste'].sum()"
   ]
  },
  {
   "cell_type": "code",
   "execution_count": null,
   "metadata": {},
   "outputs": [],
   "source": [
    "monthList  = data ['month_number']\n",
    "labels = ['FaceCream', 'FaseWash', 'ToothPaste', 'Bathing soap', 'Shampoo', 'Moisturizer']\n",
    "salesData   = [data ['facecream'].sum(), data ['facewash'].sum(), data ['toothpaste'].sum(), \n",
    "         data ['bathingsoap'].sum(), data ['shampoo'].sum(), data ['moisturizer'].sum()]\n",
    "plt.axis(\"equal\")\n",
    "plt.pie(salesData, labels=labels, autopct='%1.1f%%')\n",
    "plt.legend(loc='lower right')\n",
    "plt.title('Sales data')\n",
    "plt.show()"
   ]
  },
  {
   "cell_type": "code",
   "execution_count": null,
   "metadata": {},
   "outputs": [],
   "source": []
  }
 ],
 "metadata": {
  "kernelspec": {
   "display_name": "Python 3",
   "language": "python",
   "name": "python3"
  },
  "language_info": {
   "codemirror_mode": {
    "name": "ipython",
    "version": 3
   },
   "file_extension": ".py",
   "mimetype": "text/x-python",
   "name": "python",
   "nbconvert_exporter": "python",
   "pygments_lexer": "ipython3",
   "version": "3.7.6"
  }
 },
 "nbformat": 4,
 "nbformat_minor": 4
}
