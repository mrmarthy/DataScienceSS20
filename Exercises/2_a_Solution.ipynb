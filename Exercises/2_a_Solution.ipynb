{
 "cells": [
  {
   "cell_type": "markdown",
   "metadata": {},
   "source": [
    "# Exercise 3: Numpy"
   ]
  },
  {
   "cell_type": "markdown",
   "metadata": {},
   "source": [
    "Perform the follwing tasks:\n"
   ]
  },
  {
   "cell_type": "code",
   "execution_count": 1,
   "metadata": {},
   "outputs": [],
   "source": [
    "#3.1: import the numpy library\n",
    "import numpy as np"
   ]
  },
  {
   "cell_type": "code",
   "execution_count": 2,
   "metadata": {},
   "outputs": [
    {
     "data": {
      "text/plain": [
       "array([[0.12863669, 0.3232079 , 0.48752829, 0.84223266, 0.12880116,\n",
       "        0.2469955 , 0.46191345, 0.91098956, 0.19867012, 0.16684741],\n",
       "       [0.81610802, 0.1893226 , 0.00887995, 0.18363345, 0.18664089,\n",
       "        0.86873497, 0.99366715, 0.26596984, 0.16779417, 0.59448141],\n",
       "       [0.09113021, 0.34187344, 0.58709893, 0.77446582, 0.46392432,\n",
       "        0.22215929, 0.60255931, 0.69937524, 0.1374323 , 0.23790527],\n",
       "       [0.79252087, 0.011967  , 0.03415564, 0.63626093, 0.66793921,\n",
       "        0.76015972, 0.54760799, 0.25888551, 0.18844869, 0.43783146],\n",
       "       [0.55145215, 0.59737991, 0.10687194, 0.24575509, 0.20155871,\n",
       "        0.53563074, 0.8898547 , 0.44246326, 0.02469712, 0.67442879],\n",
       "       [0.12426804, 0.00906422, 0.26864905, 0.71206595, 0.40264541,\n",
       "        0.96604794, 0.55768393, 0.65935949, 0.01931853, 0.31281369],\n",
       "       [0.17277765, 0.20531059, 0.93630769, 0.1707634 , 0.12048862,\n",
       "        0.95104293, 0.59881337, 0.10104666, 0.3619316 , 0.20335203],\n",
       "       [0.55570194, 0.94492276, 0.38803443, 0.11897496, 0.83378985,\n",
       "        0.5719131 , 0.737183  , 0.72842461, 0.39181109, 0.92746713],\n",
       "       [0.12992484, 0.99828723, 0.33545074, 0.51480853, 0.53184242,\n",
       "        0.69543754, 0.07241584, 0.77210694, 0.88226641, 0.03913563],\n",
       "       [0.09095257, 0.28139176, 0.48115394, 0.21954165, 0.18058115,\n",
       "        0.19682057, 0.34399414, 0.79112003, 0.2822069 , 0.42751344]])"
      ]
     },
     "execution_count": 2,
     "metadata": {},
     "output_type": "execute_result"
    }
   ],
   "source": [
    "#3.2: create a random 10x10 array named A\n",
    "A = np.random.rand(10,10)\n",
    "A"
   ]
  },
  {
   "cell_type": "code",
   "execution_count": 3,
   "metadata": {},
   "outputs": [
    {
     "data": {
      "text/plain": [
       "array([[0.12863669, 0.3232079 , 0.48752829, 0.84223266, 0.12880116,\n",
       "        0.2469955 , 0.46191345, 0.91098956, 0.19867012, 0.16684741],\n",
       "       [0.09113021, 0.34187344, 0.58709893, 0.77446582, 0.46392432,\n",
       "        0.22215929, 0.60255931, 0.69937524, 0.1374323 , 0.23790527],\n",
       "       [0.55145215, 0.59737991, 0.10687194, 0.24575509, 0.20155871,\n",
       "        0.53563074, 0.8898547 , 0.44246326, 0.02469712, 0.67442879],\n",
       "       [0.17277765, 0.20531059, 0.93630769, 0.1707634 , 0.12048862,\n",
       "        0.95104293, 0.59881337, 0.10104666, 0.3619316 , 0.20335203],\n",
       "       [0.12992484, 0.99828723, 0.33545074, 0.51480853, 0.53184242,\n",
       "        0.69543754, 0.07241584, 0.77210694, 0.88226641, 0.03913563]])"
      ]
     },
     "execution_count": 3,
     "metadata": {},
     "output_type": "execute_result"
    }
   ],
   "source": [
    "#3.3: return only the odd rows of A\n",
    "A[0:10:2,:] # start:stop:stepsize , all"
   ]
  },
  {
   "cell_type": "code",
   "execution_count": null,
   "metadata": {},
   "outputs": [],
   "source": [
    "#3.4: perform a matrix multiplication of A with it's transposed\n",
    "A.dot(A.T)"
   ]
  },
  {
   "cell_type": "code",
   "execution_count": 4,
   "metadata": {},
   "outputs": [
    {
     "data": {
      "text/plain": [
       "array([[ True,  True,  True,  True,  True,  True,  True,  True,  True,\n",
       "         True],\n",
       "       [ True,  True,  True,  True,  True,  True,  True,  True,  True,\n",
       "         True],\n",
       "       [ True,  True,  True,  True,  True,  True,  True,  True,  True,\n",
       "         True],\n",
       "       [ True,  True,  True,  True,  True,  True,  True,  True,  True,\n",
       "         True],\n",
       "       [ True,  True,  True,  True,  True,  True,  True,  True,  True,\n",
       "         True],\n",
       "       [ True,  True,  True,  True,  True,  True,  True,  True,  True,\n",
       "         True],\n",
       "       [ True,  True,  True,  True,  True,  True,  True,  True,  True,\n",
       "         True],\n",
       "       [ True,  True,  True,  True,  True,  True,  True,  True,  True,\n",
       "         True],\n",
       "       [ True,  True,  True,  True,  True,  True,  True,  True,  True,\n",
       "         True],\n",
       "       [ True,  True,  True,  True,  True,  True,  True,  True,  True,\n",
       "         True]])"
      ]
     },
     "execution_count": 4,
     "metadata": {},
     "output_type": "execute_result"
    }
   ],
   "source": [
    "#3.5: compute the matrix inverse of A\n",
    "A_inv=np.linalg.inv(A)\n",
    "np.isclose(A.dot(A_inv),np.identity(10))#test for identity AA^-1"
   ]
  },
  {
   "cell_type": "code",
   "execution_count": null,
   "metadata": {},
   "outputs": [],
   "source": [
    "#3.6: divide all entries of A which are lager than 0.5 by 2 (hint: use where() )\n",
    "mask=A>0.5\n",
    "A[mask]/=2\n",
    "A\n"
   ]
  },
  {
   "cell_type": "code",
   "execution_count": null,
   "metadata": {},
   "outputs": [],
   "source": [
    "#in one line\n",
    "A[A>0.5]/=2"
   ]
  },
  {
   "cell_type": "code",
   "execution_count": null,
   "metadata": {},
   "outputs": [],
   "source": []
  }
 ],
 "metadata": {
  "kernelspec": {
   "display_name": "Python 3",
   "language": "python",
   "name": "python3"
  },
  "language_info": {
   "codemirror_mode": {
    "name": "ipython",
    "version": 3
   },
   "file_extension": ".py",
   "mimetype": "text/x-python",
   "name": "python",
   "nbconvert_exporter": "python",
   "pygments_lexer": "ipython3",
   "version": "3.7.6"
  }
 },
 "nbformat": 4,
 "nbformat_minor": 4
}
