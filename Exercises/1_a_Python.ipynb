{
  "nbformat": 4,
  "nbformat_minor": 0,
  "metadata": {
    "kernelspec": {
      "display_name": "Python 3",
      "language": "python",
      "name": "python3"
    },
    "language_info": {
      "codemirror_mode": {
        "name": "ipython",
        "version": 3
      },
      "file_extension": ".py",
      "mimetype": "text/x-python",
      "name": "python",
      "nbconvert_exporter": "python",
      "pygments_lexer": "ipython3",
      "version": "3.7.6"
    },
    "colab": {
      "name": "1_a_Python.ipynb",
      "provenance": [],
      "toc_visible": true
    }
  },
  "cells": [
    {
      "cell_type": "markdown",
      "metadata": {
        "id": "6Y1yg_ifbY6g",
        "colab_type": "text"
      },
      "source": [
        "# Exercise I: Your own Python module "
      ]
    },
    {
      "cell_type": "code",
      "metadata": {
        "id": "tvvrcBhvbY6i",
        "colab_type": "code",
        "colab": {
          "base_uri": "https://localhost:8080/",
          "height": 139
        },
        "outputId": "12cb8699-e24b-425c-d6c5-aca4373efde5"
      },
      "source": [
        "#check if notebook runs in colab\n",
        "import sys\n",
        "IN_COLAB = 'google.colab' in sys.modules\n",
        "print('running in Colab:',IN_COLAB)\n",
        "path='..'\n",
        "if IN_COLAB:\n",
        "  #in colab, we need to clone the data from the repo\n",
        "  !git clone https://github.com/keuperj/DataScienceSS20.git\n",
        "  path='DataScienceSS20'\n",
        "  import sys\n",
        "  sys.path.append(path+'/Exercises/')"
      ],
      "execution_count": 1,
      "outputs": [
        {
          "output_type": "stream",
          "text": [
            "running in Colab: True\n",
            "Cloning into 'DataScienceSS20'...\n",
            "remote: Enumerating objects: 352, done.\u001b[K\n",
            "remote: Total 352 (delta 0), reused 0 (delta 0), pack-reused 352\u001b[K\n",
            "Receiving objects: 100% (352/352), 63.03 MiB | 24.79 MiB/s, done.\n",
            "Resolving deltas: 100% (120/120), done.\n",
            "Checking out files: 100% (161/161), done.\n"
          ],
          "name": "stdout"
        }
      ]
    },
    {
      "cell_type": "markdown",
      "metadata": {
        "id": "RfiMAAf4bY7H",
        "colab_type": "text"
      },
      "source": [
        "Write your own python module (choose a name) with the following properties:\n",
        "\n",
        "1. start new python file for the module\n",
        "2. define a class ***ListKeeper*** with the following properties and API:\n",
        "   1. ***Listkeeper*** strores named lists (hint: use dictionaries) \n",
        "   2. it initializes with a list named *example*: [1,2,3,4,5]\n",
        "   3. ``show()`` returns all list names\n",
        "   4. ``add(name, list)`` adds a new list\n",
        "   5. ``delete(name)`` deletes list\n",
        "   6. ``sort(name)`` returns the sorted list *name*\n",
        "   7. ``append(name, list)`` appends *list* to *name* \n",
        "3. add comments and documentation to your class\n",
        "4. Import your module in this notebook\n",
        "5. write tests to check the functionality of your class "
      ]
    },
    {
      "cell_type": "code",
      "metadata": {
        "id": "2I5KYi0cbY7P",
        "colab_type": "code",
        "colab": {}
      },
      "source": [
        "import ListKeeperModule"
      ],
      "execution_count": 0,
      "outputs": []
    }
  ]
}