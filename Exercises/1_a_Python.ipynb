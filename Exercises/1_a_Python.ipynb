{
 "cells": [
  {
   "cell_type": "markdown",
   "metadata": {
    "colab_type": "text",
    "id": "lqka5QR0CDJ9"
   },
   "source": [
    "# Exercise I: Your own Python module "
   ]
  },
  {
   "cell_type": "code",
   "execution_count": 1,
   "metadata": {
    "colab": {
     "base_uri": "https://localhost:8080/",
     "height": 104
    },
    "colab_type": "code",
    "id": "8VmY-9ruCDKA",
    "outputId": "7c306b82-46c1-4b05-c436-bcd1a6e455c4"
   },
   "outputs": [
    {
     "name": "stdout",
     "output_type": "stream",
     "text": [
      "running in Colab: False\n"
     ]
    }
   ],
   "source": [
    "#check if notebook runs in colab\n",
    "import sys\n",
    "IN_COLAB = 'google.colab' in sys.modules\n",
    "print('running in Colab:',IN_COLAB)\n",
    "path='..'\n",
    "if IN_COLAB:\n",
    "  #in colab, we need to clone the data from the repo\n",
    "  !git clone https://github.com/mrmarthy/DataScienceSS20.git\n",
    "  %cd DataScienceSS20/\n",
    "  !git checkout mrmarthy-solution\n",
    "  %cd ..\n",
    "  path='DataScienceSS20'\n",
    "  import sys\n",
    "  sys.path.append(path+'/Exercises/')"
   ]
  },
  {
   "cell_type": "markdown",
   "metadata": {
    "colab_type": "text",
    "id": "9i8tl3EeCDKQ"
   },
   "source": [
    "Write your own python module (choose a name) with the following properties:\n",
    "\n",
    "1. start new python file for the module\n",
    "2. define a class ***ListKeeper*** with the following properties and API:\n",
    "   1. ***Listkeeper*** strores named lists (hint: use dictionaries) \n",
    "   2. it initializes with a list named *example*: [1,2,3,4,5]\n",
    "   3. ``show()`` returns all list names\n",
    "   4. ``add(name, list)`` adds a new list\n",
    "   5. ``delete(name)`` deletes list\n",
    "   6. ``sort(name)`` returns the sorted list *name*\n",
    "   7. ``append(name, list)`` appends *list* to *name* \n",
    "3. add comments and documentation to your class\n",
    "4. Import your module in this notebook\n",
    "5. write tests to check the functionality of your class "
   ]
  },
  {
   "cell_type": "code",
   "execution_count": 18,
   "metadata": {
    "colab": {
     "base_uri": "https://localhost:8080/",
     "height": 34
    },
    "colab_type": "code",
    "id": "dd5VeL7WCDKW",
    "outputId": "ecd8c1e6-74db-4321-9f79-a822cae86887"
   },
   "outputs": [
    {
     "name": "stdout",
     "output_type": "stream",
     "text": [
      "['example', 'animals', 'countries']\n",
      "['example', 'animals']\n",
      "['ara', 'cat', 'dog', 'zebra']\n",
      "['ara', 'cat', 'dog', 'eagle', 'mouse', 'rabbit', 'zebra']\n"
     ]
    }
   ],
   "source": [
    "import ListKeeperModule\n",
    "\n",
    "lk = ListKeeperModule.ListKeeper()\n",
    "\n",
    "lk.add(\"animals\", [\"dog\", \"cat\", \"zebra\", \"ara\"])\n",
    "\n",
    "lk.add(\"countries\", [\"Zimbabwe\", \"Italy\", \"Greece\", \"Belarus\"])\n",
    "\n",
    "print(lk.show())\n",
    "\n",
    "lk.delete(\"countries\")\n",
    "\n",
    "print(lk.show())\n",
    "\n",
    "print(lk.sort(\"animals\"))\n",
    "\n",
    "lk.append(\"animals\", [\"mouse\", \"rabbit\", \"eagle\"])\n",
    "\n",
    "print(lk.sort(\"animals\"))\n"
   ]
  },
  {
   "cell_type": "code",
   "execution_count": 0,
   "metadata": {
    "colab": {},
    "colab_type": "code",
    "id": "Q9IjjzS3D7oZ"
   },
   "outputs": [],
   "source": []
  }
 ],
 "metadata": {
  "colab": {
   "name": "1_a_Python.ipynb",
   "provenance": [],
   "toc_visible": true
  },
  "kernelspec": {
   "display_name": "Python 3",
   "language": "python",
   "name": "python3"
  },
  "language_info": {
   "codemirror_mode": {
    "name": "ipython",
    "version": 3
   },
   "file_extension": ".py",
   "mimetype": "text/x-python",
   "name": "python",
   "nbconvert_exporter": "python",
   "pygments_lexer": "ipython3",
   "version": "3.8.2"
  }
 },
 "nbformat": 4,
 "nbformat_minor": 1
}
